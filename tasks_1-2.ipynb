{
 "cells": [
  {
   "cell_type": "markdown",
   "metadata": {},
   "source": [
    "Системы аналитических вычислений.\n",
    "\n",
    "Лабораторная работа №2.\n",
    "\n",
    "<h1>Задание 1, вариант Б - метод прямоугольников и метод трапеций</h1>\n",
    "\n",
    "1. Реализовать функции для метода прямоугольников и метода трапеций.\n",
    "2. Сделать ползунок для перебора значений входных параметров.\n",
    "3. Сделать вывод кадров нахождения решения и оформить их через массив графиков.\n",
    "4. Сравнить полученный результат с функцией numerical_integral()."
   ]
  },
  {
   "cell_type": "markdown",
   "metadata": {},
   "source": [
    "Функция:"
   ]
  },
  {
   "cell_type": "code",
   "execution_count": 2,
   "metadata": {},
   "outputs": [
    {
     "data": {
      "text/html": [
       "<html><script type=\"math/tex; mode=display\">\\newcommand{\\Bold}[1]{\\mathbf{#1}}x \\ {\\mapsto}\\ \\frac{\\log\\left(x - 2\\right) + 1}{x - 2}</script></html>"
      ],
      "text/latex": [
       "\\begin{math}\n",
       "\\newcommand{\\Bold}[1]{\\mathbf{#1}}x \\ {\\mapsto}\\ \\frac{\\log\\left(x - 2\\right) + 1}{x - 2}\n",
       "\\end{math}"
      ],
      "text/plain": [
       "x |--> (log(x - 2) + 1)/(x - 2)"
      ]
     },
     "metadata": {},
     "output_type": "display_data"
    }
   ],
   "source": [
    "y(x) = (ln(x-2)+1)/(x-2)\n",
    "show(y)"
   ]
  },
  {
   "cell_type": "markdown",
   "metadata": {},
   "source": [
    "График функции:"
   ]
  },
  {
   "cell_type": "code",
   "execution_count": 3,
   "metadata": {},
   "outputs": [
    {
     "data": {
      "image/png": "[encoded data removed]",
      "text/plain": [
       "Graphics object consisting of 1 graphics primitive"
      ]
     },
     "execution_count": 3,
     "metadata": {},
     "output_type": "execute_result"
    }
   ],
   "source": [
    "plot(y, (2.1, 11))"
   ]
  },
  {
   "cell_type": "markdown",
   "metadata": {},
   "source": [
    "<h1>Метод прямоугольников</h1>"
   ]
  },
  {
   "cell_type": "code",
   "execution_count": 4,
   "metadata": {},
   "outputs": [],
   "source": [
    "import numpy as np\n",
    "def rectangle(func, left, right, step, vis = True):\n",
    "    res = []\n",
    "    plots = plot(func, (left, right))\n",
    "    res.append(plots)\n",
    "    rectangles = []\n",
    "    s = 0\n",
    "    \n",
    "    for i, x0 in enumerate(np.arange(left, right-step/2, step)):\n",
    "        fy = func(x0)\n",
    "        cur = fy * step\n",
    "        s += cur\n",
    "\n",
    "        rectangles.append(line(matrix([\n",
    "            [x0 + step, 0],\n",
    "            [x0 + step, fy],\n",
    "            [x0, fy],\n",
    "            [x0, 0]\n",
    "        ]), color = 'red'))\n",
    "        txt = text(r\"$step={}, current={}, result={}$\".format(i+1, str(cur)[:6], str(s)[:6]), (left+2, -1), fontsize=10, color=\"black\")\n",
    "        plots += plot(rectangles[-1])\n",
    "        res.append(plots+txt)\n",
    "    if vis:\n",
    "        graphics_array(res, len(res)//2+1, 2).show(figsize=[15, 15], aspect_ratio = 1, ymin=0, ymax=1.5)\n",
    "    return s"
   ]
  },
  {
   "cell_type": "markdown",
   "metadata": {},
   "source": [
    "Ползунки и визуализация метода:"
   ]
  },
  {
   "cell_type": "code",
   "execution_count": 5,
   "metadata": {},
   "outputs": [
    {
     "data": {
      "application/vnd.jupyter.widget-view+json": {
       "model_id": "9787889baedf41429333fa8805f0c344",
       "version_major": 2,
       "version_minor": 0
      },
      "text/plain": [
       "Interactive function <function _ at 0x6ffee30ccdd0> with 1 widget\n",
       "  step: FloatSlider(value=0.5, description='…"
      ]
     },
     "metadata": {},
     "output_type": "display_data"
    }
   ],
   "source": [
    "@interact\n",
    "def _(step = (0.1, 1, 0.1)): #шаг функции\n",
    "    @interact\n",
    "    def _(a=(3, 10, step)):\n",
    "        @interact\n",
    "        def _(b=(a + step, 20, step)):\n",
    "            rectangle(y, a, b, step)"
   ]
  },
  {
   "cell_type": "markdown",
   "metadata": {},
   "source": [
    "Сравнение результата, полученного методом прямоугольников, и результат вычисления интеграла"
   ]
  },
  {
   "cell_type": "code",
   "execution_count": 6,
   "metadata": {},
   "outputs": [
    {
     "name": "stdout",
     "output_type": "stream",
     "text": [
      "Value = 2.3472003889562933\n",
      "Rectangle = 2.3673001978277664\n",
      "Difference = 0.020099808871473\n"
     ]
    }
   ],
   "source": [
    "x1 = 3\n",
    "x2 = 6\n",
    "value, err = numerical_integral(y, x1, x2)\n",
    "rect = rectangle(y, x1, x2, 0.1, False)\n",
    "print('Value =', value)\n",
    "print('Rectangle =', rect)\n",
    "dif = abs(value - rect)\n",
    "print('Difference =', dif)"
   ]
  },
  {
   "cell_type": "markdown",
   "metadata": {},
   "source": [
    "Погрешность метода незначительна и будет меняться прямопропорционально изменению шага функции"
   ]
  },
  {
   "cell_type": "markdown",
   "metadata": {},
   "source": [
    "<h1>Метод трапеций</h1>"
   ]
  },
  {
   "cell_type": "code",
   "execution_count": 7,
   "metadata": {},
   "outputs": [],
   "source": [
    "def trapeze(func, left, right, step, vis = True):\n",
    "    res = []\n",
    "    res.append(plot(func, (left, right)))\n",
    "    plots = plot(func, (left, right))\n",
    "    trapezes = []\n",
    "    s = 0\n",
    "    \n",
    "    for i, x0 in enumerate(np.arange(left, right-step/2, step)):\n",
    "        fy1 = func(x0)\n",
    "        fy2 = func(x0 + step)\n",
    "        cur = ((fy1 + fy2) / 2) * step\n",
    "        s += cur\n",
    "\n",
    "        trapezes.append(line(matrix([\n",
    "            [x0 + step, 0],\n",
    "            [x0 + step, fy2],\n",
    "            [x0, fy1],\n",
    "            [x0, 0]\n",
    "        ]), color = 'red'))\n",
    "        txt = text(r\"$step={}, current={}, result={}$\".format(i+1, str(cur)[:6], str(s)[:6]), (left+2, -1), fontsize=10, color=\"black\")\n",
    "        plots += plot(trapezes[-1])\n",
    "        res.append(plots+txt)\n",
    "    if vis:\n",
    "        graphics_array(res,len(res)//2+1,2).show(figsize=[15,15], aspect_ratio = 1, ymin=0, ymax=1.5)\n",
    "    return s"
   ]
  },
  {
   "cell_type": "markdown",
   "metadata": {},
   "source": [
    "Ползунки и визуализация метода:"
   ]
  },
  {
   "cell_type": "code",
   "execution_count": 8,
   "metadata": {},
   "outputs": [
    {
     "data": {
      "application/vnd.jupyter.widget-view+json": {
       "model_id": "23da0c02c336418f9f68c2a1be95fd0f",
       "version_major": 2,
       "version_minor": 0
      },
      "text/plain": [
       "Interactive function <function _ at 0x6ffee1186a70> with 1 widget\n",
       "  step: FloatSlider(value=0.5, description='…"
      ]
     },
     "metadata": {},
     "output_type": "display_data"
    }
   ],
   "source": [
    "@interact\n",
    "def _(step = (0.1, 1, 0.1)):\n",
    "    @interact\n",
    "    def _(a=(3, 10, step)):\n",
    "        @interact\n",
    "        def _(b=(a + step, 15, step)):\n",
    "            trapeze(y, a, b, step)"
   ]
  },
  {
   "cell_type": "markdown",
   "metadata": {},
   "source": [
    "Сравнение результата, полученного методом трапеций, и результат вычисления интеграла"
   ]
  },
  {
   "cell_type": "code",
   "execution_count": 9,
   "metadata": {},
   "outputs": [
    {
     "name": "stdout",
     "output_type": "stream",
     "text": [
      "Value = 2.3472003889562933\n",
      "Rectangle = 2.347128877341765\n",
      "Difference = 7.151161452823018e-05\n"
     ]
    }
   ],
   "source": [
    "tr = trapeze(y, x1, x2, 0.1, False)\n",
    "print('Value =', value)\n",
    "print('Rectangle =', tr)\n",
    "dif = abs(value - tr)\n",
    "print('Difference =', dif)"
   ]
  },
  {
   "cell_type": "markdown",
   "metadata": {},
   "source": [
    "Погрешность метода незначительна и будет меняться прямопропорционально изменению шага функции\n",
    "\n",
    "<h1>Задание 2 - НОД</h1>\n",
    "\n",
    "1. Реализовать расширенный алгоритм Евклида.\n",
    "2. Рассчитать НОД, сравнить его с результатом функции gcd().\n",
    "3. Получить представление НОД в виде $u * f + v * g$ (тождество Безу).\n",
    "\n",
    "Вариант 2:\n",
    "\n",
    "$f = 5x^4 - 15x^3 + 15x^2 - 5x$\n",
    "\n",
    "$g = -22x^5 + 33x^4 - 11x^3 - 99x + 99$"
   ]
  },
  {
   "cell_type": "code",
   "execution_count": 10,
   "metadata": {},
   "outputs": [
    {
     "data": {
      "text/html": [
       "<html><script type=\"math/tex; mode=display\">\\newcommand{\\Bold}[1]{\\mathbf{#1}}5 x^{4} - 15 x^{3} + 15 x^{2} - 5 x</script></html>"
      ],
      "text/latex": [
       "\\begin{math}\n",
       "\\newcommand{\\Bold}[1]{\\mathbf{#1}}5 x^{4} - 15 x^{3} + 15 x^{2} - 5 x\n",
       "\\end{math}"
      ],
      "text/plain": [
       "5*x^4 - 15*x^3 + 15*x^2 - 5*x"
      ]
     },
     "metadata": {},
     "output_type": "display_data"
    },
    {
     "data": {
      "text/html": [
       "<html><script type=\"math/tex; mode=display\">\\newcommand{\\Bold}[1]{\\mathbf{#1}}-22 x^{5} + 33 x^{4} - 11 x^{3} - 99 x + 99</script></html>"
      ],
      "text/latex": [
       "\\begin{math}\n",
       "\\newcommand{\\Bold}[1]{\\mathbf{#1}}-22 x^{5} + 33 x^{4} - 11 x^{3} - 99 x + 99\n",
       "\\end{math}"
      ],
      "text/plain": [
       "-22*x^5 + 33*x^4 - 11*x^3 - 99*x + 99"
      ]
     },
     "metadata": {},
     "output_type": "display_data"
    }
   ],
   "source": [
    "R.<x> = PolynomialRing(QQ)\n",
    "f = 5*x**4 - 15*x**3 + 15*x**2 - 5*x\n",
    "g = -22*x**5 + 33*x**4 - 11*x**3 - 99*x + 99\n",
    "\n",
    "show(f)\n",
    "show(g)"
   ]
  },
  {
   "cell_type": "markdown",
   "metadata": {},
   "source": [
    "Расширенный алгоритм Евклида"
   ]
  },
  {
   "cell_type": "code",
   "execution_count": 11,
   "metadata": {},
   "outputs": [],
   "source": [
    "def n_gcd(a, b):\n",
    "    if(a == 0):\n",
    "        return b, 0, 1\n",
    "    \n",
    "    d, x1, y1 = n_gcd(b%a, a)\n",
    "    x = y1 - (b // a) * x1\n",
    "    y = x1\n",
    "    return d, x, y"
   ]
  },
  {
   "cell_type": "code",
   "execution_count": 12,
   "metadata": {},
   "outputs": [
    {
     "name": "stdout",
     "output_type": "stream",
     "text": [
      "GCD = -6336/49*x + 6336/49\n",
      "u = -352/175*x^3 - 1936/1225*x^2 + 4752/1225*x + 1584/245\n",
      "v = -16/35*x^2 + 16/49*x + 64/49\n"
     ]
    }
   ],
   "source": [
    "res, u, v = n_gcd(f, g)\n",
    "print('GCD =', res)\n",
    "print('u =', u(x))\n",
    "print('v =', v(x))"
   ]
  },
  {
   "cell_type": "markdown",
   "metadata": {},
   "source": [
    "Нормируем:"
   ]
  },
  {
   "cell_type": "code",
   "execution_count": 13,
   "metadata": {},
   "outputs": [],
   "source": [
    "k = -49/6336\n",
    "\n",
    "k1 = res * k\n",
    "k2 = u * k\n",
    "k3 = v * k"
   ]
  },
  {
   "cell_type": "code",
   "execution_count": 14,
   "metadata": {},
   "outputs": [
    {
     "name": "stdout",
     "output_type": "stream",
     "text": [
      "GCD = x - 1\n",
      "u = 7/450*x^3 + 11/900*x^2 - 3/100*x - 1/20\n",
      "v = 7/1980*x^2 - 1/396*x - 1/99\n"
     ]
    }
   ],
   "source": [
    "print('GCD =', k1)\n",
    "print('u =', k2)\n",
    "print('v =', k3)"
   ]
  },
  {
   "cell_type": "markdown",
   "metadata": {},
   "source": [
    "Pассчитаем НОД с помощью встроенной функции gcd():"
   ]
  },
  {
   "cell_type": "code",
   "execution_count": 16,
   "metadata": {},
   "outputs": [
    {
     "data": {
      "text/html": [
       "<html><script type=\"math/tex; mode=display\">\\newcommand{\\Bold}[1]{\\mathbf{#1}}x - 1</script></html>"
      ],
      "text/latex": [
       "\\begin{math}\n",
       "\\newcommand{\\Bold}[1]{\\mathbf{#1}}x - 1\n",
       "\\end{math}"
      ],
      "text/plain": [
       "x - 1"
      ]
     },
     "metadata": {},
     "output_type": "display_data"
    }
   ],
   "source": [
    "_auto = gcd(f, g)\n",
    "show(_auto)"
   ]
  },
  {
   "cell_type": "markdown",
   "metadata": {},
   "source": [
    "Результат, полученный при помощи алгоритма Евклида, совпал с результатом, полученным с помощью функции gcd(). Следовательно НОД полиномов $f$ и $g$ равен $x-1$.\n",
    "\n",
    "При помощи расширенного алгоритма Евклида мы нашли коэффициенты в разложении Безу. Проверим их корректность."
   ]
  },
  {
   "cell_type": "code",
   "execution_count": 17,
   "metadata": {},
   "outputs": [
    {
     "data": {
      "text/plain": [
       "x - 1"
      ]
     },
     "execution_count": 17,
     "metadata": {},
     "output_type": "execute_result"
    }
   ],
   "source": [
    "k2*f + k3*g"
   ]
  },
  {
   "cell_type": "markdown",
   "metadata": {},
   "source": [
    "Полученный результат совпал с НОД, значит найденные коэффициенты верны. Алгоритм работает корректно."
   ]
  }
 ],
 "metadata": {
  "kernelspec": {
   "display_name": "SageMath 9.2",
   "language": "sage",
   "name": "sagemath"
  },
  "language_info": {
   "codemirror_mode": {
    "name": "ipython",
    "version": 3
   },
   "file_extension": ".py",
   "mimetype": "text/x-python",
   "name": "python",
   "nbconvert_exporter": "python",
   "pygments_lexer": "ipython3",
   "version": "3.7.7"
  }
 },
 "nbformat": 4,
 "nbformat_minor": 4
}
